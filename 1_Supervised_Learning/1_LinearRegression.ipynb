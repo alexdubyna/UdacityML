{
 "cells": [
  {
   "cell_type": "code",
   "execution_count": 18,
   "metadata": {},
   "outputs": [],
   "source": [
    "import pandas as pd\n",
    "import numpy as np\n",
    "import math \n",
    "\n",
    "\n",
    "l = np.array([[2, -2], [5, 6], [-4, -4], [-7, 1], [8, 14]])\n",
    "ys = np.array([])\n",
    "\n",
    "m=len(l)\n",
    "\n",
    "dif = 0\n",
    "dif2 = 0\n",
    "\n"
   ]
  },
  {
   "cell_type": "code",
   "execution_count": 19,
   "metadata": {},
   "outputs": [
    {
     "data": {
      "text/plain": [
       "5"
      ]
     },
     "execution_count": 19,
     "metadata": {},
     "output_type": "execute_result"
    }
   ],
   "source": [
    "m\n"
   ]
  },
  {
   "cell_type": "code",
   "execution_count": 20,
   "metadata": {},
   "outputs": [],
   "source": [
    "for i in ls:\n",
    "    x = i[0]\n",
    "    z = i[1]\n",
    "    y = 1.2 * x + 2\n",
    "    \n",
    "    dif = dif + abs(y-z)\n",
    "    \n",
    "    \n",
    "    "
   ]
  },
  {
   "cell_type": "code",
   "execution_count": 21,
   "metadata": {},
   "outputs": [],
   "source": [
    "result = dif/m"
   ]
  },
  {
   "cell_type": "code",
   "execution_count": 22,
   "metadata": {},
   "outputs": [
    {
     "data": {
      "text/plain": [
       "3.88"
      ]
     },
     "execution_count": 22,
     "metadata": {},
     "output_type": "execute_result"
    }
   ],
   "source": [
    "result"
   ]
  },
  {
   "cell_type": "code",
   "execution_count": 23,
   "metadata": {},
   "outputs": [],
   "source": [
    "for i in ls:\n",
    "    x = i[0]\n",
    "    z = i[1]\n",
    "    y = 1.2 * x + 2\n",
    "    \n",
    "    dif2 = dif2 + (y-z)**2\n",
    "    "
   ]
  },
  {
   "cell_type": "code",
   "execution_count": 24,
   "metadata": {},
   "outputs": [],
   "source": [
    "result2 = dif2/(2*m)"
   ]
  },
  {
   "cell_type": "code",
   "execution_count": 25,
   "metadata": {},
   "outputs": [
    {
     "data": {
      "text/plain": [
       "10.692000000000002"
      ]
     },
     "execution_count": 25,
     "metadata": {},
     "output_type": "execute_result"
    }
   ],
   "source": [
    "result2"
   ]
  },
  {
   "cell_type": "markdown",
   "metadata": {},
   "source": [
    "### Linear_regression\n"
   ]
  },
  {
   "cell_type": "code",
   "execution_count": 133,
   "metadata": {},
   "outputs": [],
   "source": [
    "import numpy.matlib \n",
    "import numpy as np \n"
   ]
  },
  {
   "cell_type": "code",
   "execution_count": 134,
   "metadata": {},
   "outputs": [],
   "source": [
    "data = np.loadtxt('lin_reg_dat.txt', delimiter = ',')\n"
   ]
  },
  {
   "cell_type": "code",
   "execution_count": 135,
   "metadata": {},
   "outputs": [
    {
     "data": {
      "text/plain": [
       "array([-0.72407,  2.23863])"
      ]
     },
     "execution_count": 135,
     "metadata": {},
     "output_type": "execute_result"
    }
   ],
   "source": [
    "(data[0])"
   ]
  },
  {
   "cell_type": "code",
   "execution_count": 136,
   "metadata": {},
   "outputs": [],
   "source": [
    "X = data[:,:-1]\n",
    "y = data[:,-1]"
   ]
  },
  {
   "cell_type": "code",
   "execution_count": 210,
   "metadata": {},
   "outputs": [
    {
     "data": {
      "text/plain": [
       "((100, 1), (100,))"
      ]
     },
     "execution_count": 210,
     "metadata": {},
     "output_type": "execute_result"
    }
   ],
   "source": [
    "X.shape, y.shape"
   ]
  },
  {
   "cell_type": "code",
   "execution_count": 137,
   "metadata": {},
   "outputs": [
    {
     "data": {
      "text/plain": [
       "array([-0.72407])"
      ]
     },
     "execution_count": 137,
     "metadata": {},
     "output_type": "execute_result"
    }
   ],
   "source": [
    "X[0]"
   ]
  },
  {
   "cell_type": "code",
   "execution_count": 138,
   "metadata": {},
   "outputs": [
    {
     "data": {
      "text/plain": [
       "1"
      ]
     },
     "execution_count": 138,
     "metadata": {},
     "output_type": "execute_result"
    }
   ],
   "source": [
    "X.shape[1]"
   ]
  },
  {
   "cell_type": "code",
   "execution_count": 164,
   "metadata": {},
   "outputs": [
    {
     "data": {
      "text/plain": [
       "array([ 2.23863e+00, -1.56000e-03,  3.01665e+00,  2.31019e+00,\n",
       "        2.05950e+00,  1.24736e+00,  2.82497e+00,  2.21802e+00,\n",
       "        1.43644e+00,  1.74980e+00,  1.63259e+00,  2.43461e+00,\n",
       "        1.02226e+00,  3.11769e+00,  8.11940e-01,  2.81910e+00,\n",
       "        5.31050e-01,  1.64845e+00,  1.91416e+00,  2.11376e+00,\n",
       "        1.70969e+00,  2.92253e+00,  3.29827e+00,  1.58565e+00,\n",
       "        2.30455e+00,  1.79169e+00,  1.54723e+00,  1.06893e+00,\n",
       "        1.78802e+00,  1.84746e+00,  1.58732e+00,  1.94799e+00,\n",
       "        3.09324e+00,  1.86155e+00,  1.88817e+00,  1.39474e+00,\n",
       "        1.71526e+00,  1.75695e+00,  1.12981e+00,  1.67000e+00,\n",
       "        6.67110e-01,  3.11987e+00,  5.69240e-01,  2.28231e+00,\n",
       "        1.23798e+00,  1.35803e+00,  1.75579e+00,  1.91470e+00,\n",
       "        2.33029e+00,  3.25263e+00,  2.07602e+00,  1.54254e+00,\n",
       "        2.79202e+00,  1.96178e+00,  9.58980e-01,  1.96690e+00,\n",
       "        3.06144e+00,  1.85984e+00,  1.82967e+00,  6.22850e-01,\n",
       "        3.63838e+00,  1.11807e+00,  2.91735e+00,  1.99668e+00,\n",
       "        1.76149e+00,  2.31938e+00,  9.01720e-01,  3.49432e+00,\n",
       "        1.87838e+00,  2.61171e+00,  2.06623e+00,  3.04041e+00,\n",
       "        2.42824e+00,  6.31900e-01,  2.95265e+00,  1.87546e+00,\n",
       "        3.44953e+00,  1.53740e+00,  1.59958e+00,  1.57832e+00,\n",
       "        1.73312e+00,  2.00244e+00,  2.08990e+00,  1.09255e+00,\n",
       "        1.28183e+00,  2.32358e+00,  1.75136e+00,  1.43076e+00,\n",
       "        2.81376e+00,  2.56597e+00,  2.36401e+00,  2.30161e+00,\n",
       "        1.94500e+00,  1.87619e+00,  1.46602e+00,  1.21538e+00,\n",
       "        2.39377e+00,  1.55730e+00,  7.08740e-01,  1.76894e+00])"
      ]
     },
     "execution_count": 164,
     "metadata": {},
     "output_type": "execute_result"
    }
   ],
   "source": [
    "y"
   ]
  },
  {
   "cell_type": "code",
   "execution_count": 140,
   "metadata": {},
   "outputs": [],
   "source": [
    "Xn_points = X.shape[0]\n",
    "W = np.zeros(X.shape[1])\n",
    "b=0"
   ]
  },
  {
   "cell_type": "code",
   "execution_count": 141,
   "metadata": {},
   "outputs": [
    {
     "data": {
      "text/plain": [
       "100"
      ]
     },
     "execution_count": 141,
     "metadata": {},
     "output_type": "execute_result"
    }
   ],
   "source": [
    "Xn_points"
   ]
  },
  {
   "cell_type": "code",
   "execution_count": 167,
   "metadata": {},
   "outputs": [
    {
     "data": {
      "text/plain": [
       "array([0.5])"
      ]
     },
     "execution_count": 167,
     "metadata": {},
     "output_type": "execute_result"
    }
   ],
   "source": [
    "W"
   ]
  },
  {
   "cell_type": "code",
   "execution_count": 168,
   "metadata": {},
   "outputs": [],
   "source": [
    "W[0]=.5"
   ]
  },
  {
   "cell_type": "code",
   "execution_count": 169,
   "metadata": {},
   "outputs": [
    {
     "data": {
      "text/plain": [
       "array([0.5])"
      ]
     },
     "execution_count": 169,
     "metadata": {},
     "output_type": "execute_result"
    }
   ],
   "source": [
    "W"
   ]
  },
  {
   "cell_type": "code",
   "execution_count": 208,
   "metadata": {},
   "outputs": [
    {
     "data": {
      "text/plain": [
       "array([[-7.24070e-01],\n",
       "       [-2.40724e+00],\n",
       "       [ 2.64837e+00],\n",
       "       [ 3.60920e-01],\n",
       "       [ 6.73120e-01],\n",
       "       [-4.54600e-01],\n",
       "       [ 2.20168e+00],\n",
       "       [ 1.15605e+00],\n",
       "       [ 5.06940e-01],\n",
       "       [-8.59520e-01],\n",
       "       [-5.99700e-01],\n",
       "       [ 1.46804e+00],\n",
       "       [-1.05659e+00],\n",
       "       [ 1.29177e+00],\n",
       "       [-7.45650e-01],\n",
       "       [ 1.50330e-01],\n",
       "       [-1.49627e+00],\n",
       "       [-7.20710e-01],\n",
       "       [ 3.29240e-01],\n",
       "       [-2.80530e-01],\n",
       "       [-1.36115e+00],\n",
       "       [ 7.46780e-01],\n",
       "       [ 1.06210e-01],\n",
       "       [ 3.25600e-02],\n",
       "       [-9.82900e-01],\n",
       "       [-1.15661e+00],\n",
       "       [ 9.02400e-02],\n",
       "       [-1.03816e+00],\n",
       "       [-6.04000e-03],\n",
       "       [ 1.62780e-01],\n",
       "       [-6.98690e-01],\n",
       "       [ 1.03857e+00],\n",
       "       [-1.17830e-01],\n",
       "       [-9.54090e-01],\n",
       "       [-8.18390e-01],\n",
       "       [-1.28802e+00],\n",
       "       [ 6.28220e-01],\n",
       "       [-2.29674e+00],\n",
       "       [-8.56010e-01],\n",
       "       [-1.75223e+00],\n",
       "       [-1.19662e+00],\n",
       "       [ 9.77810e-01],\n",
       "       [-1.17110e+00],\n",
       "       [ 1.58350e-01],\n",
       "       [-5.89180e-01],\n",
       "       [-1.79678e+00],\n",
       "       [-9.57270e-01],\n",
       "       [ 6.45560e-01],\n",
       "       [ 2.46250e-01],\n",
       "       [ 4.59170e-01],\n",
       "       [ 1.21036e+00],\n",
       "       [-6.01160e-01],\n",
       "       [ 2.68510e-01],\n",
       "       [ 4.95940e-01],\n",
       "       [-2.67877e+00],\n",
       "       [ 4.94020e-01],\n",
       "       [ 1.18643e+00],\n",
       "       [-1.77410e-01],\n",
       "       [ 5.79380e-01],\n",
       "       [-2.14926e+00],\n",
       "       [ 2.27700e+00],\n",
       "       [-1.05695e+00],\n",
       "       [ 1.68288e+00],\n",
       "       [-1.53513e+00],\n",
       "       [ 9.90000e-04],\n",
       "       [ 4.55200e-01],\n",
       "       [-3.78550e-01],\n",
       "       [ 1.35638e+00],\n",
       "       [ 1.76300e-02],\n",
       "       [ 2.21725e+00],\n",
       "       [-4.44420e-01],\n",
       "       [ 8.95830e-01],\n",
       "       [ 1.30499e+00],\n",
       "       [ 1.08830e-01],\n",
       "       [ 1.79466e+00],\n",
       "       [-7.33000e-03],\n",
       "       [ 7.98620e-01],\n",
       "       [-1.23530e-01],\n",
       "       [-1.34999e+00],\n",
       "       [-6.78250e-01],\n",
       "       [-1.79010e-01],\n",
       "       [ 1.25770e-01],\n",
       "       [ 1.11943e+00],\n",
       "       [-3.02296e+00],\n",
       "       [ 6.49650e-01],\n",
       "       [ 1.05994e+00],\n",
       "       [ 5.33600e-01],\n",
       "       [-7.35910e-01],\n",
       "       [-9.56900e-02],\n",
       "       [ 1.04694e+00],\n",
       "       [ 4.65110e-01],\n",
       "       [-7.54630e-01],\n",
       "       [-9.41590e-01],\n",
       "       [-9.31400e-02],\n",
       "       [-9.86410e-01],\n",
       "       [-9.21590e-01],\n",
       "       [ 7.69530e-01],\n",
       "       [ 3.28300e-02],\n",
       "       [-1.07619e+00],\n",
       "       [ 2.01740e-01]])"
      ]
     },
     "execution_count": 208,
     "metadata": {},
     "output_type": "execute_result"
    }
   ],
   "source": [
    "X"
   ]
  },
  {
   "cell_type": "code",
   "execution_count": 165,
   "metadata": {},
   "outputs": [],
   "source": [
    "y_pred = np.matmul(X, W) #+ b\n"
   ]
  },
  {
   "cell_type": "code",
   "execution_count": 166,
   "metadata": {},
   "outputs": [
    {
     "data": {
      "text/plain": [
       "array([-3.620350e-01, -1.203620e+00,  1.324185e+00,  1.804600e-01,\n",
       "        3.365600e-01, -2.273000e-01,  1.100840e+00,  5.780250e-01,\n",
       "        2.534700e-01, -4.297600e-01, -2.998500e-01,  7.340200e-01,\n",
       "       -5.282950e-01,  6.458850e-01, -3.728250e-01,  7.516500e-02,\n",
       "       -7.481350e-01, -3.603550e-01,  1.646200e-01, -1.402650e-01,\n",
       "       -6.805750e-01,  3.733900e-01,  5.310500e-02,  1.628000e-02,\n",
       "       -4.914500e-01, -5.783050e-01,  4.512000e-02, -5.190800e-01,\n",
       "       -3.020000e-03,  8.139000e-02, -3.493450e-01,  5.192850e-01,\n",
       "       -5.891500e-02, -4.770450e-01, -4.091950e-01, -6.440100e-01,\n",
       "        3.141100e-01, -1.148370e+00, -4.280050e-01, -8.761150e-01,\n",
       "       -5.983100e-01,  4.889050e-01, -5.855500e-01,  7.917500e-02,\n",
       "       -2.945900e-01, -8.983900e-01, -4.786350e-01,  3.227800e-01,\n",
       "        1.231250e-01,  2.295850e-01,  6.051800e-01, -3.005800e-01,\n",
       "        1.342550e-01,  2.479700e-01, -1.339385e+00,  2.470100e-01,\n",
       "        5.932150e-01, -8.870500e-02,  2.896900e-01, -1.074630e+00,\n",
       "        1.138500e+00, -5.284750e-01,  8.414400e-01, -7.675650e-01,\n",
       "        4.950000e-04,  2.276000e-01, -1.892750e-01,  6.781900e-01,\n",
       "        8.815000e-03,  1.108625e+00, -2.222100e-01,  4.479150e-01,\n",
       "        6.524950e-01,  5.441500e-02,  8.973300e-01, -3.665000e-03,\n",
       "        3.993100e-01, -6.176500e-02, -6.749950e-01, -3.391250e-01,\n",
       "       -8.950500e-02,  6.288500e-02,  5.597150e-01, -1.511480e+00,\n",
       "        3.248250e-01,  5.299700e-01,  2.668000e-01, -3.679550e-01,\n",
       "       -4.784500e-02,  5.234700e-01,  2.325550e-01, -3.773150e-01,\n",
       "       -4.707950e-01, -4.657000e-02, -4.932050e-01, -4.607950e-01,\n",
       "        3.847650e-01,  1.641500e-02, -5.380950e-01,  1.008700e-01])"
      ]
     },
     "execution_count": 166,
     "metadata": {},
     "output_type": "execute_result"
    }
   ],
   "source": [
    "y_pred"
   ]
  },
  {
   "cell_type": "code",
   "execution_count": 162,
   "metadata": {},
   "outputs": [],
   "source": [
    "error = y - y_pred\n"
   ]
  },
  {
   "cell_type": "code",
   "execution_count": 163,
   "metadata": {},
   "outputs": [
    {
     "data": {
      "text/plain": [
       "array([2.600665, 1.20206 , 1.692465, 2.12973 , 1.72294 , 1.47466 ,\n",
       "       1.72413 , 1.639995, 1.18297 , 2.17956 , 1.93244 , 1.70059 ,\n",
       "       1.550555, 2.471805, 1.184765, 2.743935, 1.279185, 2.008805,\n",
       "       1.74954 , 2.254025, 2.390265, 2.54914 , 3.245165, 1.56937 ,\n",
       "       2.796   , 2.369995, 1.50211 , 1.58801 , 1.79104 , 1.76607 ,\n",
       "       1.936665, 1.428705, 3.152155, 2.338595, 2.297365, 2.03875 ,\n",
       "       1.40115 , 2.90532 , 1.557815, 2.546115, 1.26542 , 2.630965,\n",
       "       1.15479 , 2.203135, 1.53257 , 2.25642 , 2.234425, 1.59192 ,\n",
       "       2.207165, 3.023045, 1.47084 , 1.84312 , 2.657765, 1.71381 ,\n",
       "       2.298365, 1.71989 , 2.468225, 1.948545, 1.53998 , 1.69748 ,\n",
       "       2.49988 , 1.646545, 2.07591 , 2.764245, 1.760995, 2.09178 ,\n",
       "       1.090995, 2.81613 , 1.869565, 1.503085, 2.28844 , 2.592495,\n",
       "       1.775745, 0.577485, 2.05532 , 1.879125, 3.05022 , 1.599165,\n",
       "       2.274575, 1.917445, 1.822625, 1.939555, 1.530185, 2.60403 ,\n",
       "       0.957005, 1.79361 , 1.48456 , 1.798715, 2.861605, 2.0425  ,\n",
       "       2.131455, 2.678925, 2.415795, 1.92276 , 1.959225, 1.676175,\n",
       "       2.009005, 1.540885, 1.246835, 1.66807 ])"
      ]
     },
     "execution_count": 163,
     "metadata": {},
     "output_type": "execute_result"
    }
   ],
   "source": [
    "error"
   ]
  },
  {
   "cell_type": "code",
   "execution_count": 156,
   "metadata": {},
   "outputs": [
    {
     "data": {
      "text/plain": [
       "array([ 2.23863e+00, -1.56000e-03,  3.01665e+00,  2.31019e+00,\n",
       "        2.05950e+00,  1.24736e+00,  2.82497e+00,  2.21802e+00,\n",
       "        1.43644e+00,  1.74980e+00,  1.63259e+00,  2.43461e+00,\n",
       "        1.02226e+00,  3.11769e+00,  8.11940e-01,  2.81910e+00,\n",
       "        5.31050e-01,  1.64845e+00,  1.91416e+00,  2.11376e+00,\n",
       "        1.70969e+00,  2.92253e+00,  3.29827e+00,  1.58565e+00,\n",
       "        2.30455e+00,  1.79169e+00,  1.54723e+00,  1.06893e+00,\n",
       "        1.78802e+00,  1.84746e+00,  1.58732e+00,  1.94799e+00,\n",
       "        3.09324e+00,  1.86155e+00,  1.88817e+00,  1.39474e+00,\n",
       "        1.71526e+00,  1.75695e+00,  1.12981e+00,  1.67000e+00,\n",
       "        6.67110e-01,  3.11987e+00,  5.69240e-01,  2.28231e+00,\n",
       "        1.23798e+00,  1.35803e+00,  1.75579e+00,  1.91470e+00,\n",
       "        2.33029e+00,  3.25263e+00,  2.07602e+00,  1.54254e+00,\n",
       "        2.79202e+00,  1.96178e+00,  9.58980e-01,  1.96690e+00,\n",
       "        3.06144e+00,  1.85984e+00,  1.82967e+00,  6.22850e-01,\n",
       "        3.63838e+00,  1.11807e+00,  2.91735e+00,  1.99668e+00,\n",
       "        1.76149e+00,  2.31938e+00,  9.01720e-01,  3.49432e+00,\n",
       "        1.87838e+00,  2.61171e+00,  2.06623e+00,  3.04041e+00,\n",
       "        2.42824e+00,  6.31900e-01,  2.95265e+00,  1.87546e+00,\n",
       "        3.44953e+00,  1.53740e+00,  1.59958e+00,  1.57832e+00,\n",
       "        1.73312e+00,  2.00244e+00,  2.08990e+00,  1.09255e+00,\n",
       "        1.28183e+00,  2.32358e+00,  1.75136e+00,  1.43076e+00,\n",
       "        2.81376e+00,  2.56597e+00,  2.36401e+00,  2.30161e+00,\n",
       "        1.94500e+00,  1.87619e+00,  1.46602e+00,  1.21538e+00,\n",
       "        2.39377e+00,  1.55730e+00,  7.08740e-01,  1.76894e+00])"
      ]
     },
     "execution_count": 156,
     "metadata": {},
     "output_type": "execute_result"
    }
   ],
   "source": [
    "y"
   ]
  },
  {
   "cell_type": "code",
   "execution_count": 157,
   "metadata": {},
   "outputs": [
    {
     "data": {
      "text/plain": [
       "197.26516"
      ]
     },
     "execution_count": 157,
     "metadata": {},
     "output_type": "execute_result"
    }
   ],
   "source": [
    "error.sum()"
   ]
  },
  {
   "cell_type": "code",
   "execution_count": 158,
   "metadata": {},
   "outputs": [],
   "source": [
    "k = np.matmul(error, X)"
   ]
  },
  {
   "cell_type": "code",
   "execution_count": 159,
   "metadata": {},
   "outputs": [
    {
     "data": {
      "text/plain": [
       "array([-21.78649137])"
      ]
     },
     "execution_count": 159,
     "metadata": {},
     "output_type": "execute_result"
    }
   ],
   "source": [
    "k"
   ]
  },
  {
   "cell_type": "markdown",
   "metadata": {},
   "source": [
    "### matmul simple example - multiply array by array with single value"
   ]
  },
  {
   "cell_type": "code",
   "execution_count": 200,
   "metadata": {},
   "outputs": [],
   "source": [
    "\n",
    "p = np.array([[1],[2],[3],[4],[100]])\n",
    "\n",
    "k = np.array([1,2,3,4,5])"
   ]
  },
  {
   "cell_type": "code",
   "execution_count": 201,
   "metadata": {},
   "outputs": [
    {
     "data": {
      "text/plain": [
       "(5, 1)"
      ]
     },
     "execution_count": 201,
     "metadata": {},
     "output_type": "execute_result"
    }
   ],
   "source": [
    "p.shape"
   ]
  },
  {
   "cell_type": "code",
   "execution_count": 202,
   "metadata": {},
   "outputs": [],
   "source": [
    "e = np.array([0.5])"
   ]
  },
  {
   "cell_type": "code",
   "execution_count": 203,
   "metadata": {},
   "outputs": [
    {
     "data": {
      "text/plain": [
       "(1,)"
      ]
     },
     "execution_count": 203,
     "metadata": {},
     "output_type": "execute_result"
    }
   ],
   "source": [
    "e.shape"
   ]
  },
  {
   "cell_type": "code",
   "execution_count": 204,
   "metadata": {},
   "outputs": [
    {
     "data": {
      "text/plain": [
       "(5,)"
      ]
     },
     "execution_count": 204,
     "metadata": {},
     "output_type": "execute_result"
    }
   ],
   "source": [
    "k.shape"
   ]
  },
  {
   "cell_type": "code",
   "execution_count": 205,
   "metadata": {},
   "outputs": [
    {
     "data": {
      "text/plain": [
       "array([ 0.5,  1. ,  1.5,  2. , 50. ])"
      ]
     },
     "execution_count": 205,
     "metadata": {},
     "output_type": "execute_result"
    }
   ],
   "source": [
    "np.matmul(p,e)"
   ]
  },
  {
   "cell_type": "code",
   "execution_count": 206,
   "metadata": {},
   "outputs": [
    {
     "ename": "ValueError",
     "evalue": "matmul: Input operand 1 has a mismatch in its core dimension 0, with gufunc signature (n?,k),(k,m?)->(n?,m?) (size 1 is different from 5)",
     "output_type": "error",
     "traceback": [
      "\u001b[0;31m---------------------------------------------------------------------------\u001b[0m",
      "\u001b[0;31mValueError\u001b[0m                                Traceback (most recent call last)",
      "\u001b[0;32m<ipython-input-206-236f7acee327>\u001b[0m in \u001b[0;36m<module>\u001b[0;34m\u001b[0m\n\u001b[0;32m----> 1\u001b[0;31m \u001b[0mnp\u001b[0m\u001b[0;34m.\u001b[0m\u001b[0mmatmul\u001b[0m\u001b[0;34m(\u001b[0m\u001b[0mk\u001b[0m\u001b[0;34m,\u001b[0m\u001b[0me\u001b[0m\u001b[0;34m)\u001b[0m\u001b[0;34m\u001b[0m\u001b[0;34m\u001b[0m\u001b[0m\n\u001b[0m",
      "\u001b[0;31mValueError\u001b[0m: matmul: Input operand 1 has a mismatch in its core dimension 0, with gufunc signature (n?,k),(k,m?)->(n?,m?) (size 1 is different from 5)"
     ]
    }
   ],
   "source": [
    "np.matmul(k,e)"
   ]
  },
  {
   "cell_type": "code",
   "execution_count": null,
   "metadata": {},
   "outputs": [],
   "source": []
  },
  {
   "cell_type": "code",
   "execution_count": null,
   "metadata": {},
   "outputs": [],
   "source": []
  }
 ],
 "metadata": {
  "kernelspec": {
   "display_name": "Python 3",
   "language": "python",
   "name": "python3"
  },
  "language_info": {
   "codemirror_mode": {
    "name": "ipython",
    "version": 3
   },
   "file_extension": ".py",
   "mimetype": "text/x-python",
   "name": "python",
   "nbconvert_exporter": "python",
   "pygments_lexer": "ipython3",
   "version": "3.7.6"
  }
 },
 "nbformat": 4,
 "nbformat_minor": 4
}
